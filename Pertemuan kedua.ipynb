{
 "cells": [
  {
   "cell_type": "code",
   "execution_count": 1,
   "metadata": {},
   "outputs": [
    {
     "name": "stdout",
     "output_type": "stream",
     "text": [
      "bayu\n"
     ]
    }
   ],
   "source": [
    "#upper\n",
    "nama = \"bayu\"\n",
    "print(nama)"
   ]
  },
  {
   "cell_type": "code",
   "execution_count": 5,
   "metadata": {},
   "outputs": [
    {
     "name": "stdout",
     "output_type": "stream",
     "text": [
      "annelteis\n"
     ]
    }
   ],
   "source": [
    "#lower\n",
    "nama = \"ANNELTEIS\"\n",
    "nama_lower = nama.lower()\n",
    "print(nama.lower())"
   ]
  },
  {
   "cell_type": "code",
   "execution_count": 7,
   "metadata": {},
   "outputs": [
    {
     "name": "stdout",
     "output_type": "stream",
     "text": [
      "indonesia\n"
     ]
    }
   ],
   "source": [
    "#rstrip\n",
    "rstrip = \"indonesia\"\n",
    "print(rstrip)"
   ]
  },
  {
   "cell_type": "code",
   "execution_count": 9,
   "metadata": {},
   "outputs": [
    {
     "name": "stdout",
     "output_type": "stream",
     "text": [
      "IndonesiaMerdeka!\n"
     ]
    }
   ],
   "source": [
    "#strip\n",
    "strip = \"  Indonesia  \"\n",
    "strip_dua =\"Merdeka!\"\n",
    "print(strip.strip() + strip_dua)"
   ]
  },
  {
   "cell_type": "code",
   "execution_count": 10,
   "metadata": {},
   "outputs": [
    {
     "name": "stdout",
     "output_type": "stream",
     "text": [
      "haloh\n"
     ]
    }
   ],
   "source": [
    "#strip => menghilangkan bagian tertentu di kalimat\n",
    "word = \"Halohalohalo\"\n",
    "print(word.strip('Halo'))"
   ]
  },
  {
   "cell_type": "code",
   "execution_count": 14,
   "metadata": {},
   "outputs": [
    {
     "name": "stdout",
     "output_type": "stream",
     "text": [
      "Indonesia,-,AI\n"
     ]
    }
   ],
   "source": [
    "print(','.join(['Indonesia', '-','AI']))"
   ]
  },
  {
   "cell_type": "code",
   "execution_count": 15,
   "metadata": {},
   "outputs": [
    {
     "name": "stdout",
     "output_type": "stream",
     "text": [
      "['Indonesia.', '']\n"
     ]
    }
   ],
   "source": [
    "#split\n",
    "print('Indonesia.AI'.split('AI'))"
   ]
  },
  {
   "cell_type": "code",
   "execution_count": 16,
   "metadata": {},
   "outputs": [],
   "source": [
    "#split\n",
    "var = \"Indonesia tanah airku\"\n",
    "var_dua = var.split(\"Indonesia\")"
   ]
  },
  {
   "cell_type": "code",
   "execution_count": 17,
   "metadata": {},
   "outputs": [
    {
     "name": "stdout",
     "output_type": "stream",
     "text": [
      "['', ' tanah airku']\n"
     ]
    }
   ],
   "source": [
    "print(var_dua)"
   ]
  },
  {
   "cell_type": "code",
   "execution_count": 19,
   "metadata": {},
   "outputs": [
    {
     "name": "stdout",
     "output_type": "stream",
     "text": [
      "Indonesia Tanah Airku\n"
     ]
    }
   ],
   "source": [
    "nama = \"Indonesia Negaraku\"\n",
    "print(nama.replace('Negaraku','Tanah Airku'))"
   ]
  },
  {
   "cell_type": "code",
   "execution_count": 20,
   "metadata": {},
   "outputs": [
    {
     "name": "stdout",
     "output_type": "stream",
     "text": [
      "<class 'int'>\n",
      "8.0\n"
     ]
    }
   ],
   "source": [
    "bilangan = 8\n",
    "print(int)\n",
    "print(float(bilangan))"
   ]
  },
  {
   "cell_type": "code",
   "execution_count": 21,
   "metadata": {},
   "outputs": [
    {
     "name": "stdout",
     "output_type": "stream",
     "text": [
      "<class 'float'>\n"
     ]
    }
   ],
   "source": [
    "#integer\n",
    "float = 1.5\n",
    "print(type(float))"
   ]
  },
  {
   "cell_type": "code",
   "execution_count": 22,
   "metadata": {},
   "outputs": [
    {
     "name": "stdout",
     "output_type": "stream",
     "text": [
      "1\n"
     ]
    }
   ],
   "source": [
    "float_dua = int(float)\n",
    "print(float_dua)"
   ]
  },
  {
   "cell_type": "code",
   "execution_count": 23,
   "metadata": {},
   "outputs": [
    {
     "name": "stdout",
     "output_type": "stream",
     "text": [
      "Halo()\n"
     ]
    }
   ],
   "source": [
    "print('Halo()'.format('Semuanya'))"
   ]
  },
  {
   "cell_type": "code",
   "execution_count": 24,
   "metadata": {},
   "outputs": [
    {
     "name": "stdout",
     "output_type": "stream",
     "text": [
      "Aku cinta\n"
     ]
    }
   ],
   "source": [
    "var = \"Indonesia\"\n",
    "print('Aku cinta')"
   ]
  },
  {
   "cell_type": "code",
   "execution_count": 25,
   "metadata": {},
   "outputs": [
    {
     "name": "stdout",
     "output_type": "stream",
     "text": [
      "Aku cinta Indonesia\n"
     ]
    }
   ],
   "source": [
    "var = \"Indonesia\"\n",
    "print('Aku cinta %s' %var)"
   ]
  },
  {
   "cell_type": "code",
   "execution_count": 26,
   "metadata": {},
   "outputs": [
    {
     "name": "stdout",
     "output_type": "stream",
     "text": [
      "Berhitung mulai dari 1234\n"
     ]
    }
   ],
   "source": [
    "var_dua = 1234\n",
    "print('Berhitung mulai dari %d' %var_dua)"
   ]
  },
  {
   "cell_type": "code",
   "execution_count": 27,
   "metadata": {},
   "outputs": [
    {
     "name": "stdout",
     "output_type": "stream",
     "text": [
      "Siapa Nama kamu?Egha\n",
      "<class 'str'>\n"
     ]
    }
   ],
   "source": [
    "nama_satu = input('Siapa Nama kamu?')\n",
    "print(type(nama_satu))"
   ]
  },
  {
   "cell_type": "code",
   "execution_count": 28,
   "metadata": {},
   "outputs": [
    {
     "name": "stdout",
     "output_type": "stream",
     "text": [
      "masukkan Angka: 1\n"
     ]
    },
    {
     "ename": "TypeError",
     "evalue": "can only concatenate str (not \"int\") to str",
     "output_type": "error",
     "traceback": [
      "\u001b[1;31m---------------------------------------------------------------------------\u001b[0m",
      "\u001b[1;31mTypeError\u001b[0m                                 Traceback (most recent call last)",
      "\u001b[1;32m<ipython-input-28-61451df66426>\u001b[0m in \u001b[0;36m<module>\u001b[1;34m\u001b[0m\n\u001b[0;32m      1\u001b[0m \u001b[0mtambah\u001b[0m \u001b[1;33m=\u001b[0m \u001b[0minput\u001b[0m\u001b[1;33m(\u001b[0m\u001b[1;34m\"masukkan Angka: \"\u001b[0m\u001b[1;33m)\u001b[0m\u001b[1;33m\u001b[0m\u001b[1;33m\u001b[0m\u001b[0m\n\u001b[0;32m      2\u001b[0m \u001b[0mtambah_dua\u001b[0m \u001b[1;33m=\u001b[0m \u001b[1;36m200\u001b[0m\u001b[1;33m\u001b[0m\u001b[1;33m\u001b[0m\u001b[0m\n\u001b[1;32m----> 3\u001b[1;33m \u001b[0mtambah_tiga\u001b[0m \u001b[1;33m=\u001b[0m \u001b[0mtambah\u001b[0m \u001b[1;33m+\u001b[0m \u001b[1;36m200\u001b[0m\u001b[1;33m\u001b[0m\u001b[1;33m\u001b[0m\u001b[0m\n\u001b[0m\u001b[0;32m      4\u001b[0m \u001b[0mprint\u001b[0m\u001b[1;33m(\u001b[0m\u001b[0mtambah_tiga\u001b[0m\u001b[1;33m)\u001b[0m\u001b[1;33m\u001b[0m\u001b[1;33m\u001b[0m\u001b[0m\n",
      "\u001b[1;31mTypeError\u001b[0m: can only concatenate str (not \"int\") to str"
     ]
    }
   ],
   "source": [
    "tambah = input(\"masukkan Angka: \")\n",
    "tambah_dua = 200\n",
    "tambah_tiga = tambah + 200\n",
    "print(tambah_tiga)"
   ]
  },
  {
   "cell_type": "code",
   "execution_count": 29,
   "metadata": {},
   "outputs": [
    {
     "name": "stdout",
     "output_type": "stream",
     "text": [
      "masukkan Angka: 5\n",
      "205\n"
     ]
    }
   ],
   "source": [
    "tambah = input(\"masukkan Angka: \")\n",
    "tambah_dua = 200\n",
    "tambah_tiga =int(tambah) + 200\n",
    "print(tambah_tiga)"
   ]
  },
  {
   "cell_type": "code",
   "execution_count": 30,
   "metadata": {},
   "outputs": [
    {
     "name": "stdout",
     "output_type": "stream",
     "text": [
      "True\n"
     ]
    }
   ],
   "source": [
    "y = 40\n",
    "z = 200\n",
    "w = y < z\n",
    "print(w)"
   ]
  },
  {
   "cell_type": "code",
   "execution_count": 31,
   "metadata": {},
   "outputs": [
    {
     "name": "stdout",
     "output_type": "stream",
     "text": [
      "True\n",
      "ternyata 40 lebih kecil dari 100\n"
     ]
    }
   ],
   "source": [
    "y = 40\n",
    "z = 200\n",
    "w = y < z\n",
    "print(w)\n",
    "if w == True:\n",
    "    print(\"ternyata 40 lebih kecil dari 100\")"
   ]
  },
  {
   "cell_type": "code",
   "execution_count": 32,
   "metadata": {},
   "outputs": [
    {
     "name": "stdout",
     "output_type": "stream",
     "text": [
      "False\n"
     ]
    }
   ],
   "source": [
    "y = 40\n",
    "z = 200\n",
    "w = y > z\n",
    "print(w)\n",
    "if w == True:\n",
    "    print(\"ternyata 40 lebih kecil dari 100\")"
   ]
  },
  {
   "cell_type": "code",
   "execution_count": 33,
   "metadata": {},
   "outputs": [
    {
     "name": "stdout",
     "output_type": "stream",
     "text": [
      "5 besar dari 1\n"
     ]
    }
   ],
   "source": [
    "var_x = 5\n",
    "if var_x > 1:\n",
    "    print(\"5 besar dari 1\")"
   ]
  },
  {
   "cell_type": "code",
   "execution_count": 35,
   "metadata": {},
   "outputs": [
    {
     "name": "stdout",
     "output_type": "stream",
     "text": [
      "keliru nih\n"
     ]
    }
   ],
   "source": [
    "var_x = 0\n",
    "if var_x > 1:\n",
    "    print(\"5 besar dari 1\")\n",
    "else:\n",
    "    print(\"keliru nih\")"
   ]
  },
  {
   "cell_type": "code",
   "execution_count": 39,
   "metadata": {},
   "outputs": [
    {
     "name": "stdout",
     "output_type": "stream",
     "text": [
      "Masukkan angka:145\n",
      "45 lebih besar 10\n"
     ]
    }
   ],
   "source": [
    "masukkan = int(input(\"Masukkan angka:1\"))\n",
    "var_y = 10\n",
    "if masukkan < var_y:\n",
    "    print(masukkan, \"lebih kecil\")\n",
    "else:\n",
    "    print(masukkan, 'lebih besar', var_y)"
   ]
  },
  {
   "cell_type": "code",
   "execution_count": 44,
   "metadata": {},
   "outputs": [
    {
     "name": "stdout",
     "output_type": "stream",
     "text": [
      "masukkan nama anda!r\n",
      "Pukul berapa Anda datang?9\n",
      "hallo r\n",
      "kenapa anda terlambat, r\n"
     ]
    }
   ],
   "source": [
    "#elif\n",
    "your_name = input(\"masukkan nama anda!\")\n",
    "time = input(\"Pukul berapa Anda datang?\")\n",
    "masuk = 8\n",
    "print(\"hallo\", your_name)\n",
    "if int(time) == 8:\n",
    "    print(\"wah! anda datang tepat waktu, %s!\" %your_name)\n",
    "elif int(time) < 8:\n",
    "        print(\"Anda sangat rajin, %s\" %your_name)\n",
    "elif int(time) > 8:\n",
    "    print(\"kenapa anda terlambat, %s\" %your_name)"
   ]
  },
  {
   "cell_type": "code",
   "execution_count": null,
   "metadata": {},
   "outputs": [],
   "source": [
    "t = 1\n",
    "while t <= 10:\n",
    "    print(t)\n",
    "    t +=1"
   ]
  },
  {
   "cell_type": "code",
   "execution_count": null,
   "metadata": {},
   "outputs": [],
   "source": [
    "#break\n",
    "input_angka = int(input(\"Masukkan Angka\"))\n",
    "angka_z = [1,2,3,4,5,6,7,8,9,10]\n",
    "#kita akan cari angka-angka tertentu maka kita pakai looping\n",
    "for a in angka_z:\n",
    "    print (a)\n",
    "    if a == input_angka:\n",
    "        print(\"Angka %d ditemukan\" %input_angka)\n",
    "        break"
   ]
  },
  {
   "cell_type": "code",
   "execution_count": null,
   "metadata": {},
   "outputs": [],
   "source": []
  }
 ],
 "metadata": {
  "kernelspec": {
   "display_name": "Python 3",
   "language": "python",
   "name": "python3"
  },
  "language_info": {
   "codemirror_mode": {
    "name": "ipython",
    "version": 3
   },
   "file_extension": ".py",
   "mimetype": "text/x-python",
   "name": "python",
   "nbconvert_exporter": "python",
   "pygments_lexer": "ipython3",
   "version": "3.9.0"
  }
 },
 "nbformat": 4,
 "nbformat_minor": 4
}
